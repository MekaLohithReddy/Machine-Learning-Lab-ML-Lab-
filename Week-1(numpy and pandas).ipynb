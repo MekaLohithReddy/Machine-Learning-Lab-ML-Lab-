{
 "cells": [
  {
   "cell_type": "code",
   "execution_count": 1,
   "id": "b102ffa8",
   "metadata": {},
   "outputs": [],
   "source": [
    "import numpy as np"
   ]
  },
  {
   "cell_type": "code",
   "execution_count": 6,
   "id": "c58de89f",
   "metadata": {},
   "outputs": [
    {
     "name": "stdout",
     "output_type": "stream",
     "text": [
      "Multiplicated Array :  [10  6 20 42]\n"
     ]
    }
   ],
   "source": [
    "arr1=np.array([1,2,5,7])\n",
    "arr2=np.array([10,3,4,6])\n",
    "print(\"Multiplicated Array : \",np.multiply(arr1,arr2))"
   ]
  },
  {
   "cell_type": "code",
   "execution_count": 7,
   "id": "15151b0b",
   "metadata": {},
   "outputs": [
    {
     "name": "stdout",
     "output_type": "stream",
     "text": [
      "Missing Array :  [False False False False False  True]\n"
     ]
    }
   ],
   "source": [
    "arr1=np.array([1,2,10,5,7,np.nan])\n",
    "print(\"Missing Array : \",np.isnan(arr1))"
   ]
  },
  {
   "cell_type": "code",
   "execution_count": 9,
   "id": "4d354475",
   "metadata": {},
   "outputs": [
    {
     "name": "stdout",
     "output_type": "stream",
     "text": [
      "Same Elements in Both Arrays :  [False False False False  True]\n"
     ]
    }
   ],
   "source": [
    "arr1=np.array([1,2,5,7])\n",
    "arr2=np.array([10,3,4,6,2])\n",
    "print(\"Same Elements in Both Arrays : \",np.isin(arr2,arr1))"
   ]
  },
  {
   "cell_type": "code",
   "execution_count": 10,
   "id": "78869991",
   "metadata": {},
   "outputs": [],
   "source": [
    "arr2=np.array([10,3,4,6,2])\n",
    "np.savetxt(\"save.txt\",arr2)"
   ]
  },
  {
   "cell_type": "code",
   "execution_count": 13,
   "id": "ba0db31d",
   "metadata": {},
   "outputs": [
    {
     "name": "stdout",
     "output_type": "stream",
     "text": [
      "The Array is \n",
      " [2.5        2.63793103 2.77586207 2.9137931  3.05172414 3.18965517\n",
      " 3.32758621 3.46551724 3.60344828 3.74137931 3.87931034 4.01724138\n",
      " 4.15517241 4.29310345 4.43103448 4.56896552 4.70689655 4.84482759\n",
      " 4.98275862 5.12068966 5.25862069 5.39655172 5.53448276 5.67241379\n",
      " 5.81034483 5.94827586 6.0862069  6.22413793 6.36206897 6.5       ]\n"
     ]
    }
   ],
   "source": [
    "print(\"The Array is \\n\" , np.linspace(2.5,6.5,30))"
   ]
  },
  {
   "cell_type": "code",
   "execution_count": 14,
   "id": "75b9a581",
   "metadata": {},
   "outputs": [],
   "source": [
    "import pandas as pd"
   ]
  },
  {
   "cell_type": "code",
   "execution_count": 16,
   "id": "2dacc979",
   "metadata": {},
   "outputs": [
    {
     "name": "stdout",
     "output_type": "stream",
     "text": [
      "Before :  0    [2, 4, 6, 8]\n",
      "1    [1, 3, 5, 7]\n",
      "dtype: object\n",
      "\n",
      "After converting :  0    2\n",
      "1    4\n",
      "2    6\n",
      "3    8\n",
      "4    1\n",
      "5    3\n",
      "6    5\n",
      "7    7\n",
      "dtype: int64\n"
     ]
    }
   ],
   "source": [
    "s = pd.Series([[2, 4, 6, 8], \n",
    "               [1, 3, 5, 7]]) \n",
    "print(\"Before : \",s)  \n",
    "s = s.apply(pd.Series).stack().reset_index(drop = True) \n",
    "print(\"\\nAfter converting : \",s) "
   ]
  },
  {
   "cell_type": "code",
   "execution_count": 18,
   "id": "71fe7749",
   "metadata": {},
   "outputs": [
    {
     "name": "stdout",
     "output_type": "stream",
     "text": [
      "0    105\n",
      "1    240\n",
      "2    255\n",
      "3    320\n",
      "4    480\n",
      "dtype: int64\n",
      "3    320\n",
      "4    480\n",
      "dtype: int64\n",
      "0    105\n",
      "dtype: int64\n"
     ]
    }
   ],
   "source": [
    "a=([105,240,255,320,480])\n",
    "a=pd.Series(a)\n",
    "print(a)\n",
    "subset=a[a>=300]\n",
    "subset2=a[a<=200]\n",
    "print(subset)\n",
    "print(subset2)"
   ]
  },
  {
   "cell_type": "code",
   "execution_count": 19,
   "id": "9bf03029",
   "metadata": {},
   "outputs": [
    {
     "name": "stdout",
     "output_type": "stream",
     "text": [
      "After :  0    other\n",
      "1        3\n",
      "2    other\n",
      "3    other\n",
      "4        3\n",
      "5        3\n",
      "6        3\n",
      "7    other\n",
      "8    other\n",
      "dtype: object\n"
     ]
    }
   ],
   "source": [
    "a=([1,3,1,2,3,3,3,4,4])\n",
    "a=pd.Series(a)\n",
    "a.value_counts()\n",
    "a[~a.isin(a.value_counts(). index[   :1])]='other'\n",
    "print(\"After : \",a)"
   ]
  },
  {
   "cell_type": "code",
   "execution_count": 22,
   "id": "c10978c0",
   "metadata": {},
   "outputs": [
    {
     "name": "stdout",
     "output_type": "stream",
     "text": [
      "3      5\n",
      "4     10\n",
      "5     15\n",
      "8    100\n",
      "9    250\n",
      "dtype: int64\n"
     ]
    }
   ],
   "source": [
    "s=[1,2,46,5,10,15,18,36,100,250]\n",
    "s=pd.Series(s)\n",
    "subset=s[s%5==0]\n",
    "print(subset)"
   ]
  },
  {
   "cell_type": "code",
   "execution_count": 27,
   "id": "a863b3c5",
   "metadata": {},
   "outputs": [
    {
     "name": "stdout",
     "output_type": "stream",
     "text": [
      "0    6\n",
      "1    5\n",
      "2    4\n",
      "dtype: int64\n"
     ]
    }
   ],
   "source": [
    "s=['lohith','reddy','meka']\n",
    "s=pd.Series(s)\n",
    "subset=s.apply(lambda i : len(i))\n",
    "print(subset)"
   ]
  },
  {
   "cell_type": "code",
   "execution_count": 30,
   "id": "d33a561b",
   "metadata": {},
   "outputs": [
    {
     "name": "stdout",
     "output_type": "stream",
     "text": [
      "  year_month       Date\n",
      "0    2013-09 2013-09-30\n",
      "1    2003-01 2003-01-30\n",
      "2    2023-12 2023-12-30\n"
     ]
    }
   ],
   "source": [
    "a={'year_month':['2013-09','2003-01','2023-12']}\n",
    "a=pd.DataFrame(a)\n",
    "date=30\n",
    "a['Date']=pd.to_datetime(a['year_month'] + '-' + str(date), format='%Y-%m-%d')\n",
    "print(a)"
   ]
  },
  {
   "cell_type": "code",
   "execution_count": 34,
   "id": "bcac9583",
   "metadata": {},
   "outputs": [
    {
     "name": "stdout",
     "output_type": "stream",
     "text": [
      "           Name  Age College\n",
      "Person1  lohith   25     srm\n",
      "Person2     sai   30     vit\n"
     ]
    }
   ],
   "source": [
    "a={'Name':['lohith','sai'],\n",
    "  'Age':[25,30],\n",
    "  'College':['srm','vit']}\n",
    "ilabels = ['Person1', 'Person2']\n",
    "df11 = pd.DataFrame(a, index=ilabels)\n",
    "print(df11)"
   ]
  },
  {
   "cell_type": "code",
   "execution_count": 37,
   "id": "05cdb86d",
   "metadata": {},
   "outputs": [
    {
     "name": "stdout",
     "output_type": "stream",
     "text": [
      "     Name  Attempt\n",
      "0  lohith        2\n",
      "1   kumar        3\n",
      "2    arun        4\n"
     ]
    }
   ],
   "source": [
    "s={'Name':['lohith','kumar','arun','sai'],\n",
    "  'Attempt':[2,3,4,1]}\n",
    "s=pd.DataFrame(s)\n",
    "print(s[s['Attempt']>=2])"
   ]
  },
  {
   "cell_type": "code",
   "execution_count": 40,
   "id": "654acca5",
   "metadata": {},
   "outputs": [
    {
     "name": "stdout",
     "output_type": "stream",
     "text": [
      "              Name section\n",
      "Student1  lohith.m       o\n",
      "Student2    venkat       e\n",
      "Student3      Arun       c\n",
      "Student4     ameen       f\n",
      "Student5  lohith.b       j\n",
      "              Name section\n",
      "Student1  lohith.m       o\n",
      "Student2    venkat       e\n",
      "Student3      Arun       c\n",
      "Student5  lohith.b       j\n"
     ]
    }
   ],
   "source": [
    "a={    'Name':['lohith.m','venkat','Arun'],\n",
    "    'section':['o','e','c']}\n",
    "index_labels = ['Student1', 'Student2','Student3']\n",
    "a=pd.DataFrame(a,index=index_labels)\n",
    "b = {  \"Name\": ['ameen','lohith.b'],\n",
    "  \"section\": ['f', 'j']}\n",
    "c=pd.DataFrame(b,index=['Student4','Student5'])\n",
    "a=a.append(c)\n",
    "print(a)\n",
    "a=a.drop('Student4')\n",
    "a.drop('Student5')\n",
    "print(a)"
   ]
  },
  {
   "cell_type": "code",
   "execution_count": 45,
   "id": "8c19bc71",
   "metadata": {},
   "outputs": [
    {
     "name": "stdout",
     "output_type": "stream",
     "text": [
      "     name  score\n",
      "1   reddy     22\n",
      "2    arun     24\n",
      "0  lohith     25\n",
      "     name  score\n",
      "1   reddy     22\n",
      "0  lohith     25\n",
      "2    arun     24\n"
     ]
    }
   ],
   "source": [
    "s={    'name':['lohith','reddy','arun'],\n",
    "    'score': [25,22,24]}\n",
    "s=pd.DataFrame(s)\n",
    "b = s.sort_values(by='score',ascending=True)\n",
    "print(b)\n",
    "c=s.sort_values(by='name',ascending=False)\n",
    "print(c)"
   ]
  },
  {
   "cell_type": "code",
   "execution_count": 49,
   "id": "a72d56e6",
   "metadata": {},
   "outputs": [
    {
     "name": "stdout",
     "output_type": "stream",
     "text": [
      "   candidate qualify\n",
      "0     lohith    True\n",
      "1       arun      No\n",
      "2  venkatesh    True\n",
      "   candidate  qualify\n",
      "0     lohith     True\n",
      "1       arun    False\n",
      "2  venkatesh     True\n"
     ]
    }
   ],
   "source": [
    "a={\n",
    "    'candidate':['lohith','arun','venkatesh'],\n",
    "    'qualify':['Yes','No','Yes']\n",
    "}\n",
    "a=pd.DataFrame(a)\n",
    "a=a.replace('Yes',True)\n",
    "print(a)\n",
    "a=a.replace('No',False)\n",
    "print(a)"
   ]
  },
  {
   "cell_type": "code",
   "execution_count": 53,
   "id": "44eed13d",
   "metadata": {},
   "outputs": [
    {
     "name": "stdout",
     "output_type": "stream",
     "text": [
      "DataFrame after removing infinite values:\n",
      "    C1   C2  C3\n",
      "1  2.0  2.0   2\n",
      "2  3.0  3.0   3\n",
      "4  5.0  5.0   5\n"
     ]
    }
   ],
   "source": [
    "s = {'C1': [1, 2, 3, np.inf, 5],\n",
    "        'C2': [np.inf, 2, 3, 4, 5],\n",
    "        'C3': [1, 2, 3, 4, 5]}\n",
    "s = pd.DataFrame(s)\n",
    "s.replace([np.inf, -np.inf], np.nan, inplace=True)\n",
    "s.dropna(inplace=True)\n",
    "print(\"DataFrame after removing infinite values:\")\n",
    "print(s)"
   ]
  },
  {
   "cell_type": "code",
   "execution_count": null,
   "id": "76229564",
   "metadata": {},
   "outputs": [],
   "source": []
  }
 ],
 "metadata": {
  "kernelspec": {
   "display_name": "Python 3 (ipykernel)",
   "language": "python",
   "name": "python3"
  },
  "language_info": {
   "codemirror_mode": {
    "name": "ipython",
    "version": 3
   },
   "file_extension": ".py",
   "mimetype": "text/x-python",
   "name": "python",
   "nbconvert_exporter": "python",
   "pygments_lexer": "ipython3",
   "version": "3.7.5"
  }
 },
 "nbformat": 4,
 "nbformat_minor": 5
}
