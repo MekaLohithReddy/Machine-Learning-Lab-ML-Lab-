{
 "cells": [
  {
   "cell_type": "code",
   "execution_count": 1,
   "id": "307171e0",
   "metadata": {},
   "outputs": [],
   "source": [
    "import numpy as np"
   ]
  },
  {
   "cell_type": "code",
   "execution_count": 6,
   "id": "db8772b9",
   "metadata": {},
   "outputs": [
    {
     "name": "stdout",
     "output_type": "stream",
     "text": [
      "Multiplicated Array :  [10  6 20 42]\n"
     ]
    }
   ],
   "source": [
    "arr1=np.array([1,2,5,7])\n",
    "arr2=np.array([10,3,4,6])\n",
    "print(\"Multiplicated Array : \",np.multiply(arr1,arr2))"
   ]
  },
  {
   "cell_type": "code",
   "execution_count": 7,
   "id": "d8c01d43",
   "metadata": {},
   "outputs": [
    {
     "name": "stdout",
     "output_type": "stream",
     "text": [
      "Missing Array :  [False False False False False  True]\n"
     ]
    }
   ],
   "source": [
    "arr1=np.array([1,2,10,5,7,np.nan])\n",
    "print(\"Missing Array : \",np.isnan(arr1))"
   ]
  },
  {
   "cell_type": "code",
   "execution_count": 9,
   "id": "92cb7068",
   "metadata": {},
   "outputs": [
    {
     "name": "stdout",
     "output_type": "stream",
     "text": [
      "Same Elements in Both Arrays :  [False False False False  True]\n"
     ]
    }
   ],
   "source": [
    "arr1=np.array([1,2,5,7])\n",
    "arr2=np.array([10,3,4,6,2])\n",
    "print(\"Same Elements in Both Arrays : \",np.isin(arr2,arr1))"
   ]
  },
  {
   "cell_type": "code",
   "execution_count": 10,
   "id": "8524c784",
   "metadata": {},
   "outputs": [],
   "source": [
    "arr2=np.array([10,3,4,6,2])\n",
    "np.savetxt(\"save.txt\",arr2)"
   ]
  },
  {
   "cell_type": "code",
   "execution_count": 13,
   "id": "ac3f8e8b",
   "metadata": {},
   "outputs": [
    {
     "name": "stdout",
     "output_type": "stream",
     "text": [
      "The Array is \n",
      " [2.5        2.63793103 2.77586207 2.9137931  3.05172414 3.18965517\n",
      " 3.32758621 3.46551724 3.60344828 3.74137931 3.87931034 4.01724138\n",
      " 4.15517241 4.29310345 4.43103448 4.56896552 4.70689655 4.84482759\n",
      " 4.98275862 5.12068966 5.25862069 5.39655172 5.53448276 5.67241379\n",
      " 5.81034483 5.94827586 6.0862069  6.22413793 6.36206897 6.5       ]\n"
     ]
    }
   ],
   "source": [
    "print(\"The Array is \\n\" , np.linspace(2.5,6.5,30))"
   ]
  },
  {
   "cell_type": "code",
   "execution_count": null,
   "id": "aef6c200",
   "metadata": {},
   "outputs": [],
   "source": []
  }
 ],
 "metadata": {
  "kernelspec": {
   "display_name": "Python 3 (ipykernel)",
   "language": "python",
   "name": "python3"
  },
  "language_info": {
   "codemirror_mode": {
    "name": "ipython",
    "version": 3
   },
   "file_extension": ".py",
   "mimetype": "text/x-python",
   "name": "python",
   "nbconvert_exporter": "python",
   "pygments_lexer": "ipython3",
   "version": "3.7.5"
  }
 },
 "nbformat": 4,
 "nbformat_minor": 5
}
